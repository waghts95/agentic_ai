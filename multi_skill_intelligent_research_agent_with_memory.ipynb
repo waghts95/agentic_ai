{
 "cells": [
  {
   "cell_type": "markdown",
   "id": "966c011a",
   "metadata": {},
   "source": [
    "We’ll build a Multi-Skill Intelligent Research Agent that can:\n",
    "\n",
    " ✅ read and analyze text<br>\n",
    " ✅ perform web search (real-time using DuckDuckGo 🦆)<br>\n",
    " ✅ do math reasoning (like currency conversions or stats)<br>\n",
    " ✅ Use memory to keep context across steps<br>\n",
    " ✅ summarize and cross-combine results<br>"
   ]
  },
  {
   "cell_type": "markdown",
   "id": "0fbcc83a",
   "metadata": {},
   "source": [
    "🚀 Goal\n",
    "\n",
    "You’ll be able to ask something like:<br>\n",
    "\n",
    "“Find the latest news about AI regulation in Europe, summarize it, and calculate how many years since the first major EU AI proposal in 2021.”"
   ]
  },
  {
   "cell_type": "code",
   "execution_count": 32,
   "id": "c3be6521",
   "metadata": {},
   "outputs": [],
   "source": [
    "from langchain_community.llms import Ollama\n",
    "from langchain.agents import initialize_agent, AgentType\n",
    "from langchain.tools import tool\n",
    "from langchain_community.tools import DuckDuckGoSearchRun\n",
    "from langchain.memory import ConversationBufferMemory\n",
    "import math, re, datetime"
   ]
  },
  {
   "cell_type": "markdown",
   "id": "b542a34c",
   "metadata": {},
   "source": [
    "1. Connect to local model"
   ]
  },
  {
   "cell_type": "code",
   "execution_count": 3,
   "id": "13c29a70",
   "metadata": {},
   "outputs": [
    {
     "name": "stderr",
     "output_type": "stream",
     "text": [
      "/tmp/ipykernel_50649/1810637363.py:1: LangChainDeprecationWarning: The class `Ollama` was deprecated in LangChain 0.3.1 and will be removed in 1.0.0. An updated version of the class exists in the :class:`~langchain-ollama package and should be used instead. To use it run `pip install -U :class:`~langchain-ollama` and import as `from :class:`~langchain_ollama import OllamaLLM``.\n",
      "  llm = Ollama(model=\"mistral\")  # you can replace with llama3, phi3, etc.\n"
     ]
    }
   ],
   "source": [
    "llm = Ollama(model=\"mistral\")  # you can replace with llama3, phi3, etc."
   ]
  },
  {
   "cell_type": "markdown",
   "id": "86a79880",
   "metadata": {},
   "source": [
    "2. Define custom tools"
   ]
  },
  {
   "cell_type": "code",
   "execution_count": 28,
   "id": "e5efb462",
   "metadata": {},
   "outputs": [],
   "source": [
    "@tool\n",
    "def summarize_text(text: str) -> str:\n",
    "    \"\"\"Summarize the given text into 3-5 lines.\"\"\"\n",
    "    sentences = re.split(r'(?<=[.!?]) +', text)\n",
    "    summary = \" \".join(sentences[:5])\n",
    "    return f\"Summary: {summary}\"\n",
    "\n",
    "@tool\n",
    "def simple_calculator(expression: str) -> str:\n",
    "    \"\"\"Safely evaluates a simple math expression.\"\"\"\n",
    "    expr = expression.lower().replace(\"sqrt\", \"math.sqrt\").replace(\"^\", \"**\")\n",
    "    try:\n",
    "        result = eval(expr, {\"__builtins__\": None, \"math\": math})\n",
    "        return str(result)\n",
    "    except Exception as e:\n",
    "        return f\"Error: {e}\"\n",
    "\n",
    "@tool\n",
    "def years_since_contextual(input_text: str) -> str:\n",
    "    \"\"\"Calculates years since a given year, considering context in the same string.\"\"\"\n",
    "    try:\n",
    "        years = [int(y) for y in re.findall(r\"20\\d{2}\", input_text)]\n",
    "        if not years:\n",
    "            return \"No valid year found.\"\n",
    "        target_year = years[0]\n",
    "        ref_year = years[-1] if len(years) > 1 else datetime.datetime.now().year\n",
    "        diff = ref_year - target_year\n",
    "        if diff < 0:\n",
    "            return f\"The year {target_year} is after {ref_year}.\"\n",
    "        elif diff == 0:\n",
    "            return f\"No years have passed between {target_year} and {ref_year}.\"\n",
    "        else:\n",
    "            return f\"{diff} years have passed between {target_year} and {ref_year}.\"\n",
    "    except Exception as e:\n",
    "        return f\"Error: {e}\"\n",
    "\n",
    "@tool\n",
    "def reflect_answer(answer: str) -> str:\n",
    "    \"\"\"\n",
    "    Reflect on the agent's answer and check for logical or contextual errors.\n",
    "    If the answer seems inconsistent or wrong, provide a corrected version.\n",
    "    \"\"\"\n",
    "    reasoning_prompt = f\"\"\"\n",
    "    You are a logical critic.\n",
    "    Review this answer carefully: \"{answer}\"\n",
    "    Does it make contextual sense, especially regarding time, logic, or data consistency?\n",
    "    If it's correct, say \"Looks good.\"\n",
    "    If not, rewrite it correctly and clearly explain the fix.\n",
    "    \"\"\"\n",
    "    reflection = llm.invoke(reasoning_prompt)\n",
    "    return reflection"
   ]
  },
  {
   "cell_type": "markdown",
   "id": "141f3132",
   "metadata": {},
   "source": [
    "3. Use community search tool"
   ]
  },
  {
   "cell_type": "code",
   "execution_count": 27,
   "id": "ac1f54c5",
   "metadata": {},
   "outputs": [],
   "source": [
    "web_search = DuckDuckGoSearchRun()"
   ]
  },
  {
   "cell_type": "markdown",
   "id": "1c9812bf",
   "metadata": {},
   "source": [
    "Add all tools"
   ]
  },
  {
   "cell_type": "code",
   "execution_count": 29,
   "id": "e0a5482d",
   "metadata": {},
   "outputs": [],
   "source": [
    "tools = [summarize_text, simple_calculator, years_since_contextual, web_search, reflect_answer]"
   ]
  },
  {
   "cell_type": "markdown",
   "id": "4774b9db",
   "metadata": {},
   "source": [
    "5. Add memory"
   ]
  },
  {
   "cell_type": "code",
   "execution_count": 33,
   "id": "5e9ae322",
   "metadata": {},
   "outputs": [
    {
     "name": "stderr",
     "output_type": "stream",
     "text": [
      "/tmp/ipykernel_50649/3353824168.py:1: LangChainDeprecationWarning: Please see the migration guide at: https://python.langchain.com/docs/versions/migrating_memory/\n",
      "  memory = ConversationBufferMemory(memory_key=\"chat_history\", return_messages=True)\n"
     ]
    }
   ],
   "source": [
    "memory = ConversationBufferMemory(memory_key=\"chat_history\", return_messages=True)"
   ]
  },
  {
   "cell_type": "markdown",
   "id": "c3920a5d",
   "metadata": {},
   "source": [
    "4. Initialize the Agent"
   ]
  },
  {
   "cell_type": "code",
   "execution_count": 35,
   "id": "f33a88d9",
   "metadata": {},
   "outputs": [],
   "source": [
    "agent = initialize_agent(\n",
    "    tools,\n",
    "    llm,\n",
    "    agent_type=AgentType.CHAT_ZERO_SHOT_REACT_DESCRIPTION,\n",
    "    verbose=True,\n",
    "    handle_parsing_errors=True,\n",
    "    memory=memory\n",
    ")"
   ]
  },
  {
   "cell_type": "markdown",
   "id": "0f5cf518",
   "metadata": {},
   "source": [
    "5. Ask a complex question"
   ]
  },
  {
   "cell_type": "code",
   "execution_count": 37,
   "id": "83c2c337",
   "metadata": {},
   "outputs": [
    {
     "name": "stdout",
     "output_type": "stream",
     "text": [
      "\n",
      "\n",
      "\u001b[1m> Entering new AgentExecutor chain...\u001b[0m\n",
      "\u001b[32;1m\u001b[1;3m I need to find the latest news about inflation rates in the United States as of 2025, summarize it, calculate the inflation increase from 2024 to 2025, and reflect on whether this change is moderate, high, or concerning given global economic context.\n",
      "\n",
      "Action: duckduckgo_search\n",
      "Action Input: Latest inflation news United States 2025\u001b[0m\n",
      "Observation: \u001b[36;1m\u001b[1;3mAugust 11, 2025 - Predicting inflation is tough due to factors like politics and supply-chain disruptions. The Consumer Price Index for all items increased by 0.3% in June 2025 , on a seasonally adjusted basis, as reported by the U.S. The annual inflation rate for the United States was 2.9% for the 12 months ending August, compared to 2.7% previously, according to U.S. Labor Department data published on September 11, 2025 . The next inflation update is scheduled for release on October 15 at 8:30 a.m. ET, providing information on the inflation rate for the 12 The Consumer Price Index for All Urban Consumers (CPI-U) increased 2.9 percent for the 12 months ending August 2025 , after rising 2.7 percent over the same period in June and July. Prices for all items less food and energy rose 3.1 percent, food prices increased 3.2 percent, and energy prices increased 0.2 percent since August 2024. Forecasters expect inflation to continue rising in the fourth quarter as President Donald Trump's tariffs continue to push up prices for everyday goods and services. Explore the latest data on inflation in the US in 2025 , with key statistics, month-by-month and year-over-year trends, plus insights into prices and the economy.\u001b[0m\n",
      "Thought:\u001b[32;1m\u001b[1;3m I have found the latest news about inflation rates in the United States as of 2025. According to the U.S. Labor Department data published on September 11, 2025, the annual inflation rate for the United States was 2.9% for the 12 months ending August.\n",
      "\n",
      "To calculate the inflation increase from 2024 to 2025, we were given that in 2024, the inflation rate was 3.2%. The difference between the two rates is 0.3%, so the inflation increased by approximately 0.3% from 2024 to 2025.\n",
      "\n",
      "Reflecting on whether this change is moderate, high, or concerning given global economic context, it's important to consider that a rate of around 3% is generally considered moderate and within the range that central banks aim for. However, a 0.3% increase in such a short period might be considered a slight uptick and could potentially have implications for monetary policy decisions moving forward.\n",
      "\n",
      "Final Answer: The annual inflation rate increased by approximately 0.3% from 2024 to 2025, with the rate standing at 2.9% for the 12 months ending August 2025. This increase is considered a slight uptick and may have implications for monetary policy decisions moving forward.\u001b[0m\n",
      "\n",
      "\u001b[1m> Finished chain.\u001b[0m\n",
      "\n",
      "🧠 Final Combined Result:\n",
      " The annual inflation rate increased by approximately 0.3% from 2024 to 2025, with the rate standing at 2.9% for the 12 months ending August 2025. This increase is considered a slight uptick and may have implications for monetary policy decisions moving forward.\n"
     ]
    }
   ],
   "source": [
    "query = \"\"\"\n",
    "Find the latest 2025 news about inflation rates in the United States.\n",
    "Summarize it in a few lines.\n",
    "Then calculate the inflation increase if it rose from 3.2% in 2024 to 4.0% in 2025.\n",
    "Reflect on whether this change is moderate, high, or concerning given global economic context.\n",
    "\"\"\"\n",
    "\n",
    "result = agent.run(query)\n",
    "\n",
    "print(\"\\n🧠 Final Combined Result:\\n\", result)"
   ]
  }
 ],
 "metadata": {
  "kernelspec": {
   "display_name": "agentic-ai",
   "language": "python",
   "name": "python3"
  },
  "language_info": {
   "codemirror_mode": {
    "name": "ipython",
    "version": 3
   },
   "file_extension": ".py",
   "mimetype": "text/x-python",
   "name": "python",
   "nbconvert_exporter": "python",
   "pygments_lexer": "ipython3",
   "version": "3.12.3"
  }
 },
 "nbformat": 4,
 "nbformat_minor": 5
}
