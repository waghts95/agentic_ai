{
 "cells": [
  {
   "cell_type": "markdown",
   "id": "966c011a",
   "metadata": {},
   "source": [
    "We’ll build a Multi-Skill Intelligent Research Agent that can:\n",
    "\n",
    " ✅ read and analyze text<br>\n",
    " ✅ perform web search (real-time using DuckDuckGo 🦆)<br>\n",
    " ✅ do math reasoning (like currency conversions or stats)<br>\n",
    " ✅ summarize and cross-combine results<br>"
   ]
  },
  {
   "cell_type": "markdown",
   "id": "0fbcc83a",
   "metadata": {},
   "source": [
    "🚀 Goal\n",
    "\n",
    "You’ll be able to ask something like:<br>\n",
    "\n",
    "“Find the latest news about AI regulation in Europe, summarize it, and calculate how many years since the first major EU AI proposal in 2021.”"
   ]
  },
  {
   "cell_type": "code",
   "execution_count": 2,
   "id": "c3be6521",
   "metadata": {},
   "outputs": [],
   "source": [
    "from langchain_community.llms import Ollama\n",
    "from langchain.agents import initialize_agent, AgentType\n",
    "from langchain.tools import tool\n",
    "from langchain_community.tools import DuckDuckGoSearchRun\n",
    "import math, re, datetime"
   ]
  },
  {
   "cell_type": "markdown",
   "id": "b542a34c",
   "metadata": {},
   "source": [
    "1. Connect to local model"
   ]
  },
  {
   "cell_type": "code",
   "execution_count": 3,
   "id": "13c29a70",
   "metadata": {},
   "outputs": [
    {
     "name": "stderr",
     "output_type": "stream",
     "text": [
      "/tmp/ipykernel_50649/1810637363.py:1: LangChainDeprecationWarning: The class `Ollama` was deprecated in LangChain 0.3.1 and will be removed in 1.0.0. An updated version of the class exists in the :class:`~langchain-ollama package and should be used instead. To use it run `pip install -U :class:`~langchain-ollama` and import as `from :class:`~langchain_ollama import OllamaLLM``.\n",
      "  llm = Ollama(model=\"mistral\")  # you can replace with llama3, phi3, etc.\n"
     ]
    }
   ],
   "source": [
    "llm = Ollama(model=\"mistral\")  # you can replace with llama3, phi3, etc."
   ]
  },
  {
   "cell_type": "markdown",
   "id": "86a79880",
   "metadata": {},
   "source": [
    "2. Define custom tools"
   ]
  },
  {
   "cell_type": "code",
   "execution_count": 21,
   "id": "e5efb462",
   "metadata": {},
   "outputs": [],
   "source": [
    "@tool\n",
    "def summarize_text(text: str) -> str:\n",
    "    \"\"\"Summarizes a long text into key points.\"\"\"\n",
    "    sentences = re.split(r'(?<=[.!?]) +', text)\n",
    "    summary = \" \".join(sentences[:5])\n",
    "    return f\"Summary: {summary}\"\n",
    "\n",
    "@tool\n",
    "def simple_calculator(expression: str) -> str:\n",
    "    \"\"\"Safely evaluates a basic math expression.\"\"\"\n",
    "    expr = expression.lower()\n",
    "    expr = expr.replace(\"sqrt\", \"math.sqrt\").replace(\"^\", \"**\")\n",
    "    try:\n",
    "        result = eval(expr, {\"__builtins__\": None, \"math\": math})\n",
    "        return str(result)\n",
    "    except Exception as e:\n",
    "        return f\"Error evaluating: {e}\"\n",
    "\n",
    "@tool\n",
    "def years_since_contextual(input_text: str) -> str:\n",
    "    \"\"\"\n",
    "    Calculates years since a given year, considering contextual text like 'news from 2025'.\n",
    "    Input should look like: 'year=2021; context=news from 2025'\n",
    "    \"\"\"\n",
    "    try:\n",
    "        # Extract numbers (years)\n",
    "        years = [int(y) for y in re.findall(r\"20\\d{2}\", input_text)]\n",
    "        if not years:\n",
    "            return \"No valid year found.\"\n",
    "\n",
    "        target_year = years[0]\n",
    "        ref_year = years[-1] if len(years) > 1 else datetime.datetime.now().year\n",
    "\n",
    "        diff = ref_year - target_year\n",
    "\n",
    "        if diff < 0:\n",
    "            return f\"The year {target_year} is after {ref_year}.\"\n",
    "        elif diff == 0:\n",
    "            return f\"No years have passed between {target_year} and {ref_year}.\"\n",
    "        else:\n",
    "            return f\"{diff} years have passed between {target_year} and {ref_year}.\"\n",
    "    except Exception as e:\n",
    "        return f\"Error calculating years: {e}\"\n",
    "\n"
   ]
  },
  {
   "cell_type": "markdown",
   "id": "141f3132",
   "metadata": {},
   "source": [
    "3. Use community search tool"
   ]
  },
  {
   "cell_type": "code",
   "execution_count": 22,
   "id": "ac1f54c5",
   "metadata": {},
   "outputs": [],
   "source": [
    "web_search = DuckDuckGoSearchRun()"
   ]
  },
  {
   "cell_type": "markdown",
   "id": "1c9812bf",
   "metadata": {},
   "source": [
    "Add all tools"
   ]
  },
  {
   "cell_type": "code",
   "execution_count": 23,
   "id": "e0a5482d",
   "metadata": {},
   "outputs": [],
   "source": [
    "tools = [summarize_text, simple_calculator, years_since_contextual, web_search]"
   ]
  },
  {
   "cell_type": "markdown",
   "id": "c3920a5d",
   "metadata": {},
   "source": [
    "4. Initialize the Agent"
   ]
  },
  {
   "cell_type": "code",
   "execution_count": 24,
   "id": "f33a88d9",
   "metadata": {},
   "outputs": [],
   "source": [
    "agent = initialize_agent(\n",
    "    tools,\n",
    "    llm,\n",
    "    agent_type=AgentType.CHAT_ZERO_SHOT_REACT_DESCRIPTION,\n",
    "    verbose=True,\n",
    "    handle_parsing_errors=True\n",
    ")"
   ]
  },
  {
   "cell_type": "markdown",
   "id": "0f5cf518",
   "metadata": {},
   "source": [
    "5. Ask a complex question"
   ]
  },
  {
   "cell_type": "code",
   "execution_count": 25,
   "id": "83c2c337",
   "metadata": {},
   "outputs": [
    {
     "name": "stdout",
     "output_type": "stream",
     "text": [
      "\n",
      "\n",
      "\u001b[1m> Entering new AgentExecutor chain...\u001b[0m\n",
      "\u001b[32;1m\u001b[1;3m I need to search for the latest news about AI regulation in Europe from 2025, summarize the findings, and then calculate the number of years that have passed since 2021.\n",
      "\n",
      "Action: duckduckgo_search\n",
      "Action Input: \"latest news AI regulation Europe 2025\"\u001b[0m\n",
      "Observation: \u001b[36;1m\u001b[1;3mThe Artificial Intelligence Act is a European Union regulation concerning artificial intelligence. It establishes a common regulatory and legal framework for AI within the European Union. It came into force on 1 August 2024... July 10, 2025 - The so-called code of practice ... year. Rules for general-purpose A.I. systems take effect on Aug. 2, though E.U. regulators will not be able to impose penalties for noncompliance until August 2026 , according to the European Commission, the executive branch of the 27-nation ... May 2, 2025 - Anna-Lena Kempf, also of Pinsent Masons, said, though, that “ Article 56 of the EU AI Act obliges the AI Office to develop and publish so-called Codes of Practice on or before 2 May 2025 ” and that the Commission is equally tasked with “providing more clarity by way of guidelines (Article ... September 1, 2025 - When navigating the EU AI Act, ... guidelines and codes of practice i.e. GPAI codes of practice. Harmonized Standards: The EU is expected to release harmonized AI standards by the end of 2025 .... July 3, 2025 - Alphabet's (GOOGL.O), opens new ... and ASML (ASML.AS), opens new tab as well as several EU governments have called for a delay in implementing the Artificial Intelligence Act, partly due to the lack of a code of practice ....\u001b[0m\n",
      "Thought:\u001b[32;1m\u001b[1;3m I found multiple news articles about the AI regulation in Europe from 2025. The Artificial Intelligence Act is a European Union regulation that establishes a common regulatory and legal framework for AI within the EU. It came into force on August 1, 2024, but rules for general-purpose A.I. systems will not be enforced until August 2026. The European Commission is expected to release guidelines and codes of practice by the end of 2025. Alphabet (Google) and ASML have called for a delay in implementing the Act due to the lack of a code of practice.\n",
      "\n",
      "Action: years_since_contextual\n",
      "Action Input: 'year=2021; context=news from 2025'\u001b[0m\n",
      "Observation: \u001b[38;5;200m\u001b[1;3m4 years have passed between 2021 and 2025.\u001b[0m\n",
      "Thought:\u001b[32;1m\u001b[1;3m I found that 4 years have passed since 2021.\u001b[0m\n",
      "Observation: Invalid Format: Missing 'Action:' after 'Thought:\n",
      "Thought:\u001b[32;1m\u001b[1;3m The error occurred because the 'Thought' statement did not include an action. To fix this, we need to add the 'Action:' before 'Thought'. Here is the corrected version:\n",
      "\n",
      "Thought: I found that 4 years have passed since 2021.\n",
      "Action: years_since_contextual\n",
      "Action Input: 'year=2021; context=news from 2025'\u001b[0m\n",
      "Observation: ' before 'Thought'. Here is the corrected version:\n",
      "\n",
      "Thought: I found that 4 years have passed since 2021.\n",
      "Action: years_since_contextual is not a valid tool, try one of [summarize_text, simple_calculator, years_since_contextual, duckduckgo_search].\n",
      "Thought:\u001b[32;1m\u001b[1;3m The correct action for calculating the number of years since a given year should be 'years_since_contextual'. Here's the corrected version:\n",
      "\n",
      "Thought: I found that 4 years have passed since 2021.\n",
      "Action: years_since_contextual\n",
      "Action Input: 'year=2021; context=news from 2025'\u001b[0m\n",
      "Observation: \u001b[38;5;200m\u001b[1;3m4 years have passed between 2021 and 2025.\u001b[0m\n",
      "Thought:\u001b[32;1m\u001b[1;3m I found that the Artificial Intelligence Act is a European Union regulation concerning artificial intelligence, which establishes a common regulatory and legal framework for AI within the European Union. It came into force on August 1, 2024, but rules for general-purpose A.I. systems will not be enforced until August 2026. The European Commission is expected to release guidelines and codes of practice by the end of 2025. Alphabet (Google) and ASML have called for a delay in implementing the Act due to the lack of a code of practice. Four years have passed since 2021.\n",
      "\n",
      "Final Answer: The Artificial Intelligence Act is a European Union regulation that came into force in August 2024, with rules for general-purpose A.I. systems to be enforced from August 2026. The Commission is expected to release guidelines and codes of practice by the end of 2025, and there have been calls for a delay due to the lack of a code of practice. Four years have passed since 2021.\u001b[0m\n",
      "\n",
      "\u001b[1m> Finished chain.\u001b[0m\n",
      "\n",
      "🧠 Final Combined Result:\n",
      " The Artificial Intelligence Act is a European Union regulation that came into force in August 2024, with rules for general-purpose A.I. systems to be enforced from August 2026. The Commission is expected to release guidelines and codes of practice by the end of 2025, and there have been calls for a delay due to the lack of a code of practice. Four years have passed since 2021.\n"
     ]
    }
   ],
   "source": [
    "query = \"\"\"\n",
    "Search for the latest 2025 news about AI regulation in Europe. \n",
    "Summarize the findings in a few sentences.\n",
    "Then calculate how many years have passed since 2021.\n",
    "\"\"\"\n",
    "\n",
    "result = agent.run(query)\n",
    "\n",
    "print(\"\\n🧠 Final Combined Result:\\n\", result)"
   ]
  }
 ],
 "metadata": {
  "kernelspec": {
   "display_name": "agentic-ai",
   "language": "python",
   "name": "python3"
  },
  "language_info": {
   "codemirror_mode": {
    "name": "ipython",
    "version": 3
   },
   "file_extension": ".py",
   "mimetype": "text/x-python",
   "name": "python",
   "nbconvert_exporter": "python",
   "pygments_lexer": "ipython3",
   "version": "3.12.3"
  }
 },
 "nbformat": 4,
 "nbformat_minor": 5
}
