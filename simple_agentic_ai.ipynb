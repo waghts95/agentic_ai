{
 "cells": [
  {
   "cell_type": "code",
   "execution_count": 9,
   "id": "3afdfdea",
   "metadata": {},
   "outputs": [],
   "source": [
    "from langchain_community.llms import Ollama\n",
    "from langchain.agents import initialize_agent, AgentType\n",
    "from langchain.tools import tool\n",
    "import math, re"
   ]
  },
  {
   "cell_type": "markdown",
   "id": "c9d54750",
   "metadata": {},
   "source": [
    "Connect LangChain to Ollama"
   ]
  },
  {
   "cell_type": "code",
   "execution_count": 3,
   "id": "823b0be0",
   "metadata": {},
   "outputs": [
    {
     "name": "stderr",
     "output_type": "stream",
     "text": [
      "/tmp/ipykernel_33019/252850057.py:2: LangChainDeprecationWarning: The class `Ollama` was deprecated in LangChain 0.3.1 and will be removed in 1.0.0. An updated version of the class exists in the :class:`~langchain-ollama package and should be used instead. To use it run `pip install -U :class:`~langchain-ollama` and import as `from :class:`~langchain_ollama import OllamaLLM``.\n",
      "  llm = Ollama(model=\"mistral\")\n"
     ]
    },
    {
     "name": "stdout",
     "output_type": "stream",
     "text": [
      " Agentic AI refers to artificial intelligence systems that have the ability to perceive their environment, make decisions, and take actions with the goal of achieving specific objectives autonomously.\n"
     ]
    }
   ],
   "source": [
    "\n",
    "# Connect to local Llama 3 model\n",
    "llm = Ollama(model=\"mistral\")\n",
    "response = llm.invoke(\"Explain what is Agentic AI in one line.\")\n",
    "print(response)"
   ]
  },
  {
   "cell_type": "markdown",
   "id": "e631a609",
   "metadata": {},
   "source": [
    "Add Agent Capabilities (Tools)"
   ]
  },
  {
   "cell_type": "code",
   "execution_count": 10,
   "id": "0de9c7dd",
   "metadata": {},
   "outputs": [],
   "source": [
    "# Define a simple, safe calculator tool\n",
    "@tool\n",
    "def simple_calculator(expression: str) -> str:\n",
    "    \"\"\"Safely evaluate a basic math expression (supports sqrt, %, +, -, *, /).\"\"\"\n",
    "    try:\n",
    "        expr = expression.lower()\n",
    "        expr = re.sub(r\"(\\d+)\\s*%\", r\"(\\1/100)\", expr)  # Convert 20% → (20/100)\n",
    "        expr = expr.replace(\"sqrt\", \"math.sqrt\")\n",
    "\n",
    "        result = eval(expr, {\"__builtins__\": None, \"math\": math})\n",
    "        return str(result)\n",
    "    except Exception as e:\n",
    "        return f\"Error: {e}\"\n",
    "\n",
    "# Add the tool to the agent\n",
    "tools = [simple_calculator]"
   ]
  },
  {
   "cell_type": "code",
   "execution_count": 11,
   "id": "aebb57f3",
   "metadata": {},
   "outputs": [
    {
     "data": {
      "text/plain": [
       "[StructuredTool(name='simple_calculator', description='Safely evaluate a basic math expression (supports sqrt, %, +, -, *, /).', args_schema=<class 'langchain_core.utils.pydantic.simple_calculator'>, func=<function simple_calculator at 0x7538b38a1760>)]"
      ]
     },
     "execution_count": 11,
     "metadata": {},
     "output_type": "execute_result"
    }
   ],
   "source": [
    "tools"
   ]
  },
  {
   "cell_type": "code",
   "execution_count": 22,
   "id": "26033aec",
   "metadata": {},
   "outputs": [],
   "source": [
    "# Initialize an agent\n",
    "agent = initialize_agent(tools, llm, agent_type=AgentType.ZERO_SHOT_REACT_DESCRIPTION, verbose=True, handle_parsing_errors=True)"
   ]
  },
  {
   "cell_type": "code",
   "execution_count": 23,
   "id": "a07b850c",
   "metadata": {},
   "outputs": [
    {
     "data": {
      "text/plain": [
       "AgentExecutor(verbose=True, tags=['zero-shot-react-description'], agent=ZeroShotAgent(llm_chain=LLMChain(verbose=False, prompt=PromptTemplate(input_variables=['agent_scratchpad', 'input'], input_types={}, partial_variables={}, template='Answer the following questions as best you can. You have access to the following tools:\\n\\nsimple_calculator(expression: str) -> str - Safely evaluate a basic math expression (supports sqrt, %, +, -, *, /).\\n\\nUse the following format:\\n\\nQuestion: the input question you must answer\\nThought: you should always think about what to do\\nAction: the action to take, should be one of [simple_calculator]\\nAction Input: the input to the action\\nObservation: the result of the action\\n... (this Thought/Action/Action Input/Observation can repeat N times)\\nThought: I now know the final answer\\nFinal Answer: the final answer to the original input question\\n\\nBegin!\\n\\nQuestion: {input}\\nThought:{agent_scratchpad}'), llm=Ollama(model='mistral'), output_parser=StrOutputParser(), llm_kwargs={}), output_parser=MRKLOutputParser(), allowed_tools=['simple_calculator']), tools=[StructuredTool(name='simple_calculator', description='Safely evaluate a basic math expression (supports sqrt, %, +, -, *, /).', args_schema=<class 'langchain_core.utils.pydantic.simple_calculator'>, func=<function simple_calculator at 0x7538b38a1760>)], handle_parsing_errors=True)"
      ]
     },
     "execution_count": 23,
     "metadata": {},
     "output_type": "execute_result"
    }
   ],
   "source": [
    "agent"
   ]
  },
  {
   "cell_type": "code",
   "execution_count": 24,
   "id": "a8ff5d38",
   "metadata": {},
   "outputs": [
    {
     "name": "stdout",
     "output_type": "stream",
     "text": [
      "\n",
      "\n",
      "\u001b[1m> Entering new AgentExecutor chain...\u001b[0m\n",
      "\u001b[32;1m\u001b[1;3m To find the square root of 144 and then add 20% of 50, I need to perform two calculations. First, I'll find the square root using the `simple_calculator` tool. Then, I'll calculate 20% of 50.\n",
      "\n",
      "Action: simple_calculator\n",
      "Action Input: sqrt(144)\u001b[0m\n",
      "Observation: \u001b[36;1m\u001b[1;3m12.0\u001b[0m\n",
      "Thought:\u001b[32;1m\u001b[1;3m Now that I know the square root of 144, I can proceed to find 20% of 50.\n",
      "\n",
      "Action: simple_calculator\n",
      "Action Input: 50*20/100\u001b[0m\n",
      "Observation: \u001b[36;1m\u001b[1;3m10.0\u001b[0m\n",
      "Thought:\u001b[32;1m\u001b[1;3m I have now completed both calculations. Now, I will add the square root of 144 and 20% of 50 to get the final answer.\n",
      "\n",
      "Final Answer: The square root of 144 plus 20% of 50 is 22.0.\u001b[0m\n",
      "\n",
      "\u001b[1m> Finished chain.\u001b[0m\n",
      "✅ Result: The square root of 144 plus 20% of 50 is 22.0.\n"
     ]
    }
   ],
   "source": [
    "# Try it out\n",
    "try:\n",
    "    result = agent.run(\"What is the square root of 144, plus 20% of 50?\")\n",
    "    print(\"✅ Result:\", result)\n",
    "except Exception as e:\n",
    "    print(\"Handled gracefully:\", e)"
   ]
  }
 ],
 "metadata": {
  "kernelspec": {
   "display_name": "agentic-ai",
   "language": "python",
   "name": "python3"
  },
  "language_info": {
   "codemirror_mode": {
    "name": "ipython",
    "version": 3
   },
   "file_extension": ".py",
   "mimetype": "text/x-python",
   "name": "python",
   "nbconvert_exporter": "python",
   "pygments_lexer": "ipython3",
   "version": "3.12.3"
  }
 },
 "nbformat": 4,
 "nbformat_minor": 5
}
